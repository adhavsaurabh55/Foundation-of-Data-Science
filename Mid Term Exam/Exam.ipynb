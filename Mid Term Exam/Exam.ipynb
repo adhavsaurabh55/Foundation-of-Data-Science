{
 "cells": [
  {
   "cell_type": "code",
   "execution_count": null,
   "id": "f3f340e3",
   "metadata": {},
   "outputs": [],
   "source": [
    "# NAME : ADHAV SAURABH DNYANDEV\n",
    "# ROLL NO : 02\n",
    "\n",
    "# Import Library\n",
    "import numpy as np\n",
    "import pandas as pd\n",
    "\n"
   ]
  },
  {
   "cell_type": "code",
   "execution_count": null,
   "id": "1d636458",
   "metadata": {},
   "outputs": [],
   "source": [
    " #Load CSV file\n",
    "df = pd.read_csv('student_dataset.csv')  \n"
   ]
  },
  {
   "cell_type": "code",
   "execution_count": 4,
   "id": "2a918228",
   "metadata": {},
   "outputs": [],
   "source": [
    "# Convert columns to numpy arrays\n",
    "ids = df['ID'].to_numpy()\n",
    "names = df['Name'].to_numpy()\n",
    "ages = df['Age'].to_numpy()\n",
    "marks = df['Marks'].to_numpy()\n",
    "genders = df['Gender'].to_numpy()"
   ]
  },
  {
   "cell_type": "code",
   "execution_count": 5,
   "id": "d14a3975",
   "metadata": {},
   "outputs": [
    {
     "name": "stdout",
     "output_type": "stream",
     "text": [
      "Shape: (1000, 5)\n",
      "Columns: ['ID', 'Name', 'Age', 'Marks', 'Gender']\n",
      "\n"
     ]
    }
   ],
   "source": [
    "print(\"Shape:\", df.shape)\n",
    "print(\"Columns:\", df.columns.to_list())\n",
    "print()"
   ]
  },
  {
   "cell_type": "code",
   "execution_count": 6,
   "id": "080393e0",
   "metadata": {},
   "outputs": [
    {
     "name": "stdout",
     "output_type": "stream",
     "text": [
      "1D Age array: [24 21 22 24 20 22 22 24 19 20]\n"
     ]
    }
   ],
   "source": [
    "# 1D array example\n",
    "print(\"1D Age array:\", ages[:10])\n"
   ]
  },
  {
   "cell_type": "code",
   "execution_count": 7,
   "id": "9ae3d1bd",
   "metadata": {},
   "outputs": [
    {
     "name": "stdout",
     "output_type": "stream",
     "text": [
      "2D Age-Marks shape: (1000, 2)\n"
     ]
    }
   ],
   "source": [
    "# 2D array (Age & Marks together)\n",
    "age_marks = df[['Age','Marks']].to_numpy()\n",
    "print(\"2D Age-Marks shape:\", age_marks.shape)"
   ]
  },
  {
   "cell_type": "code",
   "execution_count": 8,
   "id": "53c1bb73",
   "metadata": {},
   "outputs": [
    {
     "name": "stdout",
     "output_type": "stream",
     "text": [
      "ndim: 2\n",
      "dtype: int64\n",
      "size: 2000\n",
      "itemsize: 8\n",
      "nbytes: 16000\n"
     ]
    }
   ],
   "source": [
    "# Array attributes\n",
    "print(\"ndim:\", age_marks.ndim)\n",
    "print(\"dtype:\", age_marks.dtype)\n",
    "print(\"size:\", age_marks.size)\n",
    "print(\"itemsize:\", age_marks.itemsize)\n",
    "print(\"nbytes:\", age_marks.nbytes)\n"
   ]
  },
  {
   "cell_type": "code",
   "execution_count": 9,
   "id": "847edaa8",
   "metadata": {},
   "outputs": [
    {
     "name": "stdout",
     "output_type": "stream",
     "text": [
      "First 5 students: ['Student_1' 'Student_2' 'Student_3' 'Student_4' 'Student_5']\n"
     ]
    }
   ],
   "source": [
    "# Get first 5 names\n",
    "print(\"First 5 students:\", names[:5])"
   ]
  },
  {
   "cell_type": "code",
   "execution_count": 10,
   "id": "2497eeab",
   "metadata": {},
   "outputs": [
    {
     "name": "stdout",
     "output_type": "stream",
     "text": [
      "Last 5 marks: [82 73 96 65 80]\n"
     ]
    }
   ],
   "source": [
    "# Get last 5 marks\n",
    "print(\"Last 5 marks:\", marks[-5:])"
   ]
  },
  {
   "cell_type": "code",
   "execution_count": 12,
   "id": "1ca14701",
   "metadata": {},
   "outputs": [
    {
     "name": "stdout",
     "output_type": "stream",
     "text": [
      "Average Age: 20.96\n"
     ]
    }
   ],
   "source": [
    "print(\"Average Age:\", np.mean(ages))"
   ]
  },
  {
   "cell_type": "code",
   "execution_count": 13,
   "id": "10dbc8ed",
   "metadata": {},
   "outputs": [
    {
     "name": "stdout",
     "output_type": "stream",
     "text": [
      "Max Marks: 100\n"
     ]
    }
   ],
   "source": [
    "print(\"Max Marks:\", np.max(marks))"
   ]
  },
  {
   "cell_type": "code",
   "execution_count": 14,
   "id": "5402decb",
   "metadata": {},
   "outputs": [
    {
     "name": "stdout",
     "output_type": "stream",
     "text": [
      "Min Marks: 40\n"
     ]
    }
   ],
   "source": [
    "print(\"Min Marks:\", np.min(marks))"
   ]
  },
  {
   "cell_type": "code",
   "execution_count": 15,
   "id": "2d6d3614",
   "metadata": {},
   "outputs": [
    {
     "name": "stdout",
     "output_type": "stream",
     "text": [
      "Median Marks: 70.0\n"
     ]
    }
   ],
   "source": [
    "print(\"Median Marks:\", np.median(marks))"
   ]
  },
  {
   "cell_type": "code",
   "execution_count": 16,
   "id": "495582a8",
   "metadata": {},
   "outputs": [
    {
     "name": "stdout",
     "output_type": "stream",
     "text": [
      "Standard Deviation of Marks: 17.459901947032805\n"
     ]
    }
   ],
   "source": [
    "print(\"Standard Deviation of Marks:\", np.std(marks))"
   ]
  },
  {
   "cell_type": "code",
   "execution_count": 17,
   "id": "73970af0",
   "metadata": {},
   "outputs": [
    {
     "name": "stdout",
     "output_type": "stream",
     "text": [
      "[1 2 3 4]\n",
      "<class 'numpy.ndarray'>\n"
     ]
    }
   ],
   "source": [
    "import numpy as np\n",
    "arr = np.array([1, 2, 3, 4])\n",
    "print(arr)       # [1 2 3 4]\n",
    "print(type(arr)) # <class 'numpy.ndarray'>\n"
   ]
  },
  {
   "cell_type": "code",
   "execution_count": 18,
   "id": "8ca92e64",
   "metadata": {},
   "outputs": [
    {
     "data": {
      "text/plain": [
       "array([1, 3, 5, 7, 9])"
      ]
     },
     "execution_count": 18,
     "metadata": {},
     "output_type": "execute_result"
    }
   ],
   "source": [
    "np.arange(1, 10, 2)   # [1 3 5 7 9]\n"
   ]
  },
  {
   "cell_type": "code",
   "execution_count": 19,
   "id": "8d822198",
   "metadata": {},
   "outputs": [
    {
     "data": {
      "text/plain": [
       "array([0.  , 0.25, 0.5 , 0.75, 1.  ])"
      ]
     },
     "execution_count": 19,
     "metadata": {},
     "output_type": "execute_result"
    }
   ],
   "source": [
    "np.linspace(0, 1, 5)  # [0.   0.25  0.5  0.75  1. ]\n"
   ]
  },
  {
   "cell_type": "code",
   "execution_count": 20,
   "id": "ac8bd0d0",
   "metadata": {},
   "outputs": [],
   "source": [
    "a = np.arange(6)          # [0 1 2 3 4 5]\n",
    "a = a.reshape(2, 3)        # [[0 1 2]\n",
    "                           #  [3 4 5]]\n"
   ]
  },
  {
   "cell_type": "code",
   "execution_count": 21,
   "id": "a860befa",
   "metadata": {},
   "outputs": [
    {
     "name": "stdout",
     "output_type": "stream",
     "text": [
      "[5 7 9]\n",
      "[-3 -3 -3]\n",
      "[ 4 10 18]\n",
      "[0.25 0.4  0.5 ]\n",
      "[1 4 9]\n"
     ]
    }
   ],
   "source": [
    "a = np.array([1, 2, 3])\n",
    "b = np.array([4, 5, 6])\n",
    "\n",
    "print(a + b)  # [5 7 9]\n",
    "print(a - b)  # [-3 -3 -3]\n",
    "print(a * b)  # [ 4 10 18]\n",
    "print(a / b)  # [0.25 0.4  0.5 ]\n",
    "print(a ** 2) # [1 4 9]\n"
   ]
  },
  {
   "cell_type": "code",
   "execution_count": 22,
   "id": "9e5cd1eb",
   "metadata": {},
   "outputs": [
    {
     "data": {
      "text/plain": [
       "np.int64(2)"
      ]
     },
     "execution_count": 22,
     "metadata": {},
     "output_type": "execute_result"
    }
   ],
   "source": [
    "arr = np.array([10, 20, 5, 30])\n",
    "np.argmax(arr)   # 3\n",
    "np.argmin(arr)   # 2\n"
   ]
  },
  {
   "cell_type": "code",
   "execution_count": 23,
   "id": "f5fe133f",
   "metadata": {},
   "outputs": [
    {
     "data": {
      "text/plain": [
       "array([2, 3, 4])"
      ]
     },
     "execution_count": 23,
     "metadata": {},
     "output_type": "execute_result"
    }
   ],
   "source": [
    "arr = np.array([2, 4, 7, 11])\n",
    "np.diff(arr)    # [2 3 4]\n"
   ]
  },
  {
   "cell_type": "code",
   "execution_count": null,
   "id": "712119e9",
   "metadata": {},
   "outputs": [],
   "source": []
  },
  {
   "cell_type": "markdown",
   "id": "fc8a3bae",
   "metadata": {},
   "source": []
  }
 ],
 "metadata": {
  "kernelspec": {
   "display_name": "Python 3",
   "language": "python",
   "name": "python3"
  },
  "language_info": {
   "codemirror_mode": {
    "name": "ipython",
    "version": 3
   },
   "file_extension": ".py",
   "mimetype": "text/x-python",
   "name": "python",
   "nbconvert_exporter": "python",
   "pygments_lexer": "ipython3",
   "version": "3.13.5"
  }
 },
 "nbformat": 4,
 "nbformat_minor": 5
}
