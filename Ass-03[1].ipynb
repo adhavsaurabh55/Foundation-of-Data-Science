{
 "cells": [
  {
   "cell_type": "code",
   "execution_count": null,
   "id": "286c384d",
   "metadata": {},
   "outputs": [],
   "source": [
    "# SAURABH ADHAV\n",
    "# Roll no - 02\n",
    "# Ass-03"
   ]
  },
  {
   "cell_type": "code",
   "execution_count": 8,
   "id": "2fd16969",
   "metadata": {},
   "outputs": [
    {
     "name": "stdout",
     "output_type": "stream",
     "text": [
      "\n",
      "Without Using Inbuilt Functions:\n",
      "Mean: 15.8\n",
      "Median: 16.0\n",
      "Mode: [12]\n"
     ]
    }
   ],
   "source": [
    "# Program to calculate Mean, Median and Mode without using inbuilt functions\n",
    "\n",
    "data = [12, 15, 12, 18, 19, 12, 17, 20, 18, 15]\n",
    "\n",
    "#Mean\n",
    "def calculate_mean(data):\n",
    "    return sum(data) / len(data)\n",
    "\n",
    "#Median\n",
    "def calculate_median(data):\n",
    "    sorted_data = sorted(data)\n",
    "    n = len(sorted_data)\n",
    "    mid = n // 2\n",
    "    if n % 2 == 0:\n",
    "        median = (sorted_data[mid - 1] + sorted_data[mid]) / 2\n",
    "    else:\n",
    "        median = sorted_data[mid]\n",
    "    return median\n",
    "\n",
    "#Mode\n",
    "def calculate_mode(data):\n",
    "    freq = {}\n",
    "    for val in data:\n",
    "        freq[val] = freq.get(val, 0) + 1\n",
    "    max_freq = max(freq.values())\n",
    "    mode = [key for key, value in freq.items() if value == max_freq]\n",
    "    return mode\n",
    "\n",
    "print(\"\\nWithout Using Inbuilt Functions:\")\n",
    "print(\"Mean:\", calculate_mean(data))\n",
    "print(\"Median:\", calculate_median(data))\n",
    "print(\"Mode:\", calculate_mode(data))\n"
   ]
  },
  {
   "cell_type": "code",
   "execution_count": 7,
   "id": "fd9e8d72",
   "metadata": {},
   "outputs": [
    {
     "name": "stdout",
     "output_type": "stream",
     "text": [
      "\n",
      "using inbuilt functions\n",
      "\n",
      "Mean   : 15.8\n",
      "Median : 16.0\n",
      "Mode   : 12\n"
     ]
    }
   ],
   "source": [
    "# using builtin functions\n",
    "import statistics as statis\n",
    "data=[12, 15, 12, 18, 19, 12, 17, 20, 18, 15]\n",
    "# mean\n",
    "mean_=statis.mean(data)\n",
    "#median\n",
    "median_=statis.median(data)\n",
    "# Mode\n",
    "mode_=statis.mode(data)\n",
    "print(\"\\nusing inbuilt functions\\n\")\n",
    "print(\"Mean   :\",mean_)\n",
    "print(\"Median :\",median_)\n",
    "print(\"Mode   :\",mode_)"
   ]
  },
  {
   "cell_type": "code",
   "execution_count": 12,
   "id": "e0f083ac",
   "metadata": {},
   "outputs": [
    {
     "name": "stdout",
     "output_type": "stream",
     "text": [
      "  Student  Marks\n",
      "0      S1     78\n",
      "1      S2     65\n",
      "2      S3     80\n",
      "3      S4     92\n",
      "4      S5     85\n",
      "5      S6     75\n",
      "6      S7     88\n",
      "7      S8     90\n",
      "8      S9     70\n",
      "9     S10     85\n",
      "\n",
      "Without Using Inbuilt Functions:\n",
      "Mean     : 80.8\n",
      "Median   : 82.5\n",
      "Mode     : [85]\n",
      "\n",
      "using inbuilt functions\n",
      "\n",
      "Mean     : 80.8\n",
      "Median   : 82.5\n",
      "Mode     : 85\n"
     ]
    }
   ],
   "source": [
    "import pandas as pd\n",
    "data=pd.read_csv(\"student_marks.csv\")\n",
    "print(data)\n",
    "\n",
    "#mean \n",
    "def cal_mean(data):\n",
    "    return sum(data)/len(data)\n",
    "def cal_median(data):\n",
    "    sorted_data=sorted(data)\n",
    "    n=len(sorted_data)\n",
    "    mid= n//2\n",
    "    if n %2 ==0:\n",
    "        median=(sorted_data[mid-1]+sorted_data[mid])/2\n",
    "    else:\n",
    "        median=sorted_data[mid] \n",
    "    return median\n",
    "def cal_mode(data):\n",
    "    freq = {}\n",
    "    for val in data:\n",
    "        freq[val] = freq.get(val, 0) + 1\n",
    "    max_freq = max(freq.values())\n",
    "    mode = [key for key, value in freq.items() if value == max_freq]\n",
    "    return mode\n",
    "def cal_mode(data):\n",
    "    freq = {}\n",
    "    for val in data:\n",
    "        freq[val] = freq.get(val, 0) + 1\n",
    "    max_freq = max(freq.values())\n",
    "    mode = [key for key, value in freq.items() if value == max_freq]\n",
    "    return mode\n",
    "\n",
    "print(\"\\nWithout Using Inbuilt Functions:\")\n",
    "print(\"Mean     :\",cal_mean(data['Marks']))\n",
    "print(\"Median   :\",cal_median(data['Marks']))\n",
    "print(\"Mode     :\",cal_mode(data['Marks'])) \n",
    "\n",
    "import statistics as statis\n",
    "print(\"\\nusing inbuilt functions\\n\")\n",
    "print(\"Mean     :\",statis.mean(data['Marks']))\n",
    "print(\"Median   :\",statis.median(data[\"Marks\"]))\n",
    "print(\"Mode     :\",statis.mode(data[\"Marks\"]))"
   ]
  }
 ],
 "metadata": {
  "kernelspec": {
   "display_name": "Python 3",
   "language": "python",
   "name": "python3"
  },
  "language_info": {
   "codemirror_mode": {
    "name": "ipython",
    "version": 3
   },
   "file_extension": ".py",
   "mimetype": "text/x-python",
   "name": "python",
   "nbconvert_exporter": "python",
   "pygments_lexer": "ipython3",
   "version": "3.13.5"
  }
 },
 "nbformat": 4,
 "nbformat_minor": 5
}
