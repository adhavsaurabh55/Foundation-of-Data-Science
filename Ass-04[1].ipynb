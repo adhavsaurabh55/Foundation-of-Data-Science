{
 "cells": [
  {
   "cell_type": "code",
   "execution_count": null,
   "id": "7d6f9c37",
   "metadata": {},
   "outputs": [],
   "source": [
    "# Saurabh Adhav\n",
    "# Roll no - 02\n",
    "# Ass-04"
   ]
  },
  {
   "cell_type": "code",
   "execution_count": 1,
   "id": "33b28df3",
   "metadata": {},
   "outputs": [
    {
     "name": "stdout",
     "output_type": "stream",
     "text": [
      "\n",
      " without using built-in functions:\n",
      "\n",
      "range                : 27\n",
      "Variance             : 3.157967714489334e-15\n",
      "Standard deviation   : 5.6195798014525375e-08\n"
     ]
    }
   ],
   "source": [
    "# Without builtin \n",
    "data = [78, 65, 80, 92, 85, 75, 88, 90, 70, 85]\n",
    "# Range\n",
    "def cal_range(data):\n",
    "    return max(data)-min(data)\n",
    "def cal_variance(data):\n",
    "    mean=sum(data)/len(data)\n",
    "    squared_diff=[x-mean for x in data]\n",
    "    variance = sum(squared_diff) / (len(data) - 1)  # sample variance\n",
    "    return variance\n",
    "def cal_sd(data):\n",
    "    return cal_variance(data)**0.5\n",
    "print(\"\\n without using built-in functions:\\n\")\n",
    "print(\"range                :\",cal_range(data))\n",
    "print(\"Variance             :\",cal_variance(data))\n",
    "print(\"Standard deviation   :\",cal_sd(data))\n"
   ]
  },
  {
   "cell_type": "code",
   "execution_count": 2,
   "id": "6a79b5ca",
   "metadata": {},
   "outputs": [
    {
     "name": "stdout",
     "output_type": "stream",
     "text": [
      "Using Inbuilt Functions:\n",
      "Range: 27\n",
      "Variance: 78.4\n",
      "Standard Deviation: 8.854377448471462\n"
     ]
    }
   ],
   "source": [
    "import statistics as stats\n",
    "\n",
    "data = [78, 65, 80, 92, 85, 75, 88, 90, 70, 85]\n",
    "\n",
    "# Range\n",
    "range_value = max(data) - min(data)\n",
    "\n",
    "# Variance\n",
    "variance_value = stats.variance(data)\n",
    "\n",
    "# Standard Deviation\n",
    "std_dev_value = stats.stdev(data)\n",
    "\n",
    "print(\"Using Inbuilt Functions:\")\n",
    "print(\"Range:\", range_value)\n",
    "print(\"Variance:\", variance_value)\n",
    "print(\"Standard Deviation:\", std_dev_value)"
   ]
  },
  {
   "cell_type": "code",
   "execution_count": 5,
   "id": "7dae6292",
   "metadata": {},
   "outputs": [
    {
     "name": "stdout",
     "output_type": "stream",
     "text": [
      "  Student  Marks\n",
      "0      S1     78\n",
      "1      S2     65\n",
      "2      S3     80\n",
      "3      S4     92\n",
      "4      S5     85\n",
      "5      S6     75\n",
      "6      S7     88\n",
      "7      S8     90\n",
      "8      S9     70\n",
      "9     S10     85\n",
      "\n",
      " without using built-in functions:\n",
      "\n",
      "range                : 27\n",
      "Variance             : -0.9999999999999971\n",
      "Standard deviation   : (6.123233995736757e-17+0.9999999999999986j)\n",
      "\n",
      " using built-in functions:\n",
      "\n",
      "Range: 27\n",
      "Variance: 78.4\n",
      "Standard Deviation: 8.854377448471462\n"
     ]
    }
   ],
   "source": [
    "import pandas as pd\n",
    "data=pd.read_csv(\"student_marks.csv\")\n",
    "print(data)\n",
    "\n",
    "# Range\n",
    "def cal_rang(data):\n",
    "    return max(data)-min(data)\n",
    "def cal_variance(data):\n",
    "    mean=sum(data)/len(data)\n",
    "    squared_diff=[x- mean for x in data]\n",
    "    variance=(sum(squared_diff)/len(data)-1)\n",
    "    return variance\n",
    "def cal_sd(data):\n",
    "    return cal_variance(data)**0.5\n",
    "print(\"\\n without using built-in functions:\\n\")\n",
    "print(\"range                :\",cal_rang(data['Marks']))\n",
    "print(\"Variance             :\",cal_variance(data['Marks']))\n",
    "print(\"Standard deviation   :\",cal_sd(data['Marks']))\n",
    "import statistics as stats\n",
    "print(\"\\n using built-in functions:\\n\")\n",
    "print(\"Range:\",max(data[\"Marks\"]) - min(data[\"Marks\"]))\n",
    "print(\"Variance:\",stats.variance(data['Marks']))\n",
    "print(\"Standard Deviation:\",stats.stdev(data['Marks']))\n",
    "\n"
   ]
  }
 ],
 "metadata": {
  "kernelspec": {
   "display_name": "Python 3",
   "language": "python",
   "name": "python3"
  },
  "language_info": {
   "codemirror_mode": {
    "name": "ipython",
    "version": 3
   },
   "file_extension": ".py",
   "mimetype": "text/x-python",
   "name": "python",
   "nbconvert_exporter": "python",
   "pygments_lexer": "ipython3",
   "version": "3.13.5"
  }
 },
 "nbformat": 4,
 "nbformat_minor": 5
}
